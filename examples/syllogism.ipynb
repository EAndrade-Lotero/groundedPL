{
 "cells": [
  {
   "cell_type": "code",
   "execution_count": null,
   "id": "4b5dfda0",
   "metadata": {},
   "outputs": [],
   "source": [
    "#!pip install python-sat"
   ]
  },
  {
   "cell_type": "code",
   "execution_count": 2,
   "id": "e458cc10",
   "metadata": {},
   "outputs": [],
   "source": [
    "import sys\n",
    "\n",
    "sys.path.append('..')"
   ]
  },
  {
   "cell_type": "code",
   "execution_count": 3,
   "id": "ec8bffc6",
   "metadata": {},
   "outputs": [],
   "source": [
    "from groundedPL.logic_tester import LogicTester"
   ]
  },
  {
   "cell_type": "markdown",
   "id": "060546c9",
   "metadata": {},
   "source": []
  },
  {
   "cell_type": "code",
   "execution_count": 1,
   "id": "38f0bb97",
   "metadata": {},
   "outputs": [],
   "source": [
    "premise1 = 'all x.(MAN(x) -> MORTAL(x))'\n",
    "premise2 = 'MAN(socrates)'\n",
    "conclusion = 'MORTAL(socrates)'"
   ]
  },
  {
   "cell_type": "code",
   "execution_count": 4,
   "id": "b1dcbfae",
   "metadata": {},
   "outputs": [
    {
     "name": "stderr",
     "output_type": "stream",
     "text": [
      "  0%|          | 0/38 [00:00<?, ?it/s]\n"
     ]
    },
    {
     "data": {
      "text/plain": [
       "True"
      ]
     },
     "execution_count": 4,
     "metadata": {},
     "output_type": "execute_result"
    }
   ],
   "source": [
    "lt = LogicTester()\n",
    "\n",
    "lt.test_implicacion(\n",
    "    f\"{premise1} & {premise2}\", conclusion\n",
    ")"
   ]
  }
 ],
 "metadata": {
  "kernelspec": {
   "display_name": "Python 3",
   "language": "python",
   "name": "python3"
  },
  "language_info": {
   "codemirror_mode": {
    "name": "ipython",
    "version": 3
   },
   "file_extension": ".py",
   "mimetype": "text/x-python",
   "name": "python",
   "nbconvert_exporter": "python",
   "pygments_lexer": "ipython3",
   "version": "3.9.6"
  }
 },
 "nbformat": 4,
 "nbformat_minor": 5
}
