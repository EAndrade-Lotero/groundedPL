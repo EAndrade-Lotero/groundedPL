{
 "cells": [
  {
   "cell_type": "code",
   "execution_count": null,
   "id": "4b5dfda0",
   "metadata": {},
   "outputs": [],
   "source": [
    "#!pip install python-sat"
   ]
  },
  {
   "cell_type": "code",
   "execution_count": 4,
   "id": "e458cc10",
   "metadata": {},
   "outputs": [],
   "source": [
    "import sys\n",
    "\n",
    "sys.path.append('..')"
   ]
  },
  {
   "cell_type": "code",
   "execution_count": 5,
   "id": "ec8bffc6",
   "metadata": {},
   "outputs": [],
   "source": [
    "from groundedPL.logic_tester import LogicTester"
   ]
  },
  {
   "cell_type": "markdown",
   "id": "060546c9",
   "metadata": {},
   "source": []
  },
  {
   "cell_type": "code",
   "execution_count": null,
   "id": "38f0bb97",
   "metadata": {},
   "outputs": [],
   "source": []
  }
 ],
 "metadata": {
  "kernelspec": {
   "display_name": "Python 3",
   "language": "python",
   "name": "python3"
  },
  "language_info": {
   "codemirror_mode": {
    "name": "ipython",
    "version": 3
   },
   "file_extension": ".py",
   "mimetype": "text/x-python",
   "name": "python",
   "nbconvert_exporter": "python",
   "pygments_lexer": "ipython3",
   "version": "3.9.6"
  }
 },
 "nbformat": 4,
 "nbformat_minor": 5
}
