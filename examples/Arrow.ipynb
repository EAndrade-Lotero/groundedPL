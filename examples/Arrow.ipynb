{
 "cells": [
  {
   "cell_type": "code",
   "execution_count": null,
   "metadata": {},
   "outputs": [],
   "source": [
    "#!pip install python-sat"
   ]
  },
  {
   "cell_type": "code",
   "execution_count": 9,
   "metadata": {},
   "outputs": [],
   "source": [
    "import pprint\n",
    "\n",
    "import sys\n",
    "\n",
    "sys.path.append('..')"
   ]
  },
  {
   "cell_type": "code",
   "execution_count": 10,
   "metadata": {},
   "outputs": [],
   "source": [
    "from random import choice\n",
    "from itertools import product, combinations\n",
    "from groundedPL.codificacion import ToPropositionalLogic\n",
    "from groundedPL.logUtils import LogUtils\n",
    "from groundedPL.logic_tester import LogicTester\n",
    "\n",
    "parser = ToPropositionalLogic()"
   ]
  },
  {
   "cell_type": "code",
   "execution_count": 11,
   "metadata": {},
   "outputs": [],
   "source": [
    "axioms = []"
   ]
  },
  {
   "cell_type": "markdown",
   "metadata": {},
   "source": [
    "# Axioms of linear order for PRO"
   ]
  },
  {
   "cell_type": "code",
   "execution_count": 19,
   "metadata": {},
   "outputs": [
    {
     "data": {
      "text/plain": [
       "<AllExpression all z u x y.((IND(z) & SIT(u) & ALT(x) & ALT(y)) -> (PRO(z,x,y,u) | PRO(z,y,x,u) | (x = y)))>"
      ]
     },
     "execution_count": 19,
     "metadata": {},
     "output_type": "execute_result"
    }
   ],
   "source": [
    "linp1 = 'all z u x y.((IND(z) & SIT(u) & ALT(x) & ALT(y)) -> (PRO(z,x,y,u) | PRO(z,y,x,u) | x = y ))' \n",
    "linp1 = parser.to_nltk(linp1)\n",
    "axioms.append(linp1)\n",
    "linp1"
   ]
  },
  {
   "cell_type": "code",
   "execution_count": 13,
   "metadata": {},
   "outputs": [
    {
     "data": {
      "text/plain": [
       "<AllExpression all z u x.((IND(z) & SIT(u) & ALT(x)) -> -PRO(z,x,x,u))>"
      ]
     },
     "execution_count": 13,
     "metadata": {},
     "output_type": "execute_result"
    }
   ],
   "source": [
    "linp2 = 'all z u x.((IND(z) & SIT(u) & ALT(x)) -> -PRO(z,x,x,u)) ' \n",
    "linp2 = parser.to_nltk(linp2)\n",
    "axioms.append(linp2)\n",
    "linp2"
   ]
  },
  {
   "cell_type": "code",
   "execution_count": 14,
   "metadata": {},
   "outputs": [
    {
     "data": {
      "text/plain": [
       "<AllExpression all z u x1 x2 x3.((IND(z) & SIT(u) & ALT(x1) & ALT(x2) & ALT(x3) & PRO(z,x1,x2,u) & PRO(z,x2,x3,u)) -> PRO(z,x1,x3,u))>"
      ]
     },
     "execution_count": 14,
     "metadata": {},
     "output_type": "execute_result"
    }
   ],
   "source": [
    "linp3 = 'all z u x1 x2 x3.((IND(z) & SIT(u) & ALT(x1) & ALT(x2) & ALT(x3) & PRO(z,x1,x2,u) & PRO(z,x2,x3,u)) -> PRO(z,x1,x3,u)) ' \n",
    "linp3 = parser.to_nltk(linp3)\n",
    "axioms.append(linp3)\n",
    "linp3"
   ]
  },
  {
   "cell_type": "markdown",
   "metadata": {},
   "source": [
    "# Axioms for w"
   ]
  },
  {
   "cell_type": "code",
   "execution_count": null,
   "metadata": {},
   "outputs": [],
   "source": [
    "linw1 = 'all u x y.(SIT(u) & ALT(x) & ALT(y) -> (WEL(x,y,u) | WEL(y,x,u) | x = y ))' \n",
    "linw1 = parser.to_nltk(linw1)\n",
    "axioms.append(linw1)\n",
    "linw1"
   ]
  },
  {
   "cell_type": "code",
   "execution_count": null,
   "metadata": {},
   "outputs": [],
   "source": [
    "linw2 = 'all u x y.(SIT(u) & ALT(x) -> -WEL(x,y,u))' \n",
    "linw2 = parser.to_nltk(linw2)\n",
    "axioms.append(linw2)\n",
    "linw2"
   ]
  },
  {
   "cell_type": "code",
   "execution_count": null,
   "metadata": {},
   "outputs": [],
   "source": [
    "linw3 = 'all u x y t.(SIT(u) & ALT(x) & ALT(y) & ALT(t) & WEL(x,y,u) & WEL(y,t,u)-> WEL(x,t,u)) ' \n",
    "linw3 = parser.to_nltk(linw3)\n",
    "axioms.append(linw3)\n",
    "linw3"
   ]
  },
  {
   "cell_type": "markdown",
   "metadata": {},
   "source": [
    "# MIN"
   ]
  },
  {
   "cell_type": "code",
   "execution_count": null,
   "metadata": {},
   "outputs": [],
   "source": [
    "min1 = '(ALT(alternativa1) & ALT(alternativa2) & ALT(alternativa3) & IND(individuo1) & SIT(situacion1))'\n",
    "min1 = parser.to_nltk(min1)\n",
    "axioms.append(min1)\n",
    "min1"
   ]
  },
  {
   "cell_type": "code",
   "execution_count": null,
   "metadata": {},
   "outputs": [],
   "source": [
    "min2 = '(-(alternativa1 = alternativa2) & -(alternativa1 = alternativa3)  & -(alternativa2 = alternativa3))'\n",
    "min2 = parser.to_nltk(min2)\n",
    "axioms.append(min2)\n",
    "min2"
   ]
  },
  {
   "cell_type": "markdown",
   "metadata": {},
   "source": [
    "# PART"
   ]
  },
  {
   "cell_type": "code",
   "execution_count": null,
   "metadata": {},
   "outputs": [],
   "source": [
    "part1 = 'all x.(ALT(x) -> (-IND(x) & - SIT(x)))'\n",
    "part1 = parser.to_nltk(part1)\n",
    "axioms.append(part1)\n",
    "part1"
   ]
  },
  {
   "cell_type": "code",
   "execution_count": null,
   "metadata": {},
   "outputs": [],
   "source": [
    "part2 = 'all x.(IND(x) -> (-ALT(x) & - SIT(x)))'\n",
    "part2 = parser.to_nltk(part2)\n",
    "axioms.append(part2)\n",
    "part2"
   ]
  },
  {
   "cell_type": "code",
   "execution_count": null,
   "metadata": {},
   "outputs": [],
   "source": [
    "part3 = 'all x.(SIT(x) -> (-IND(x) & - ALT(x)))'\n",
    "part3 = parser.to_nltk(part3)\n",
    "axioms.append(part3)\n",
    "part3"
   ]
  },
  {
   "cell_type": "code",
   "execution_count": null,
   "metadata": {},
   "outputs": [],
   "source": [
    "part4 = 'all x.(ALT(x) | IND(x) | SIT(x))'\n",
    "part4 = parser.to_nltk(part4)\n",
    "axioms.append(part4)\n",
    "part4"
   ]
  },
  {
   "cell_type": "markdown",
   "metadata": {},
   "source": [
    "# DEF"
   ]
  },
  {
   "cell_type": "code",
   "execution_count": null,
   "metadata": {},
   "outputs": [],
   "source": [
    "def1 = 'all x y z u.(PRO(z,x,y,u) -> (IND(z) & ALT(x) & ALT(y) & SIT(u)))'\n",
    "def1 = parser.to_nltk(def1)\n",
    "axioms.append(def1)\n",
    "def1"
   ]
  },
  {
   "cell_type": "code",
   "execution_count": null,
   "metadata": {},
   "outputs": [],
   "source": [
    "def2 = 'all x y u.(WEL(x,y,u) -> (ALT(x) & ALT(y) & SIT(u)))'\n",
    "def2 = parser.to_nltk(def2)\n",
    "axioms.append(def2)\n",
    "def2"
   ]
  },
  {
   "cell_type": "markdown",
   "metadata": {},
   "source": [
    "# INJ"
   ]
  },
  {
   "cell_type": "code",
   "execution_count": null,
   "metadata": {},
   "outputs": [],
   "source": [
    "inj = 'all u v x y.(SIT(u) & SIT(v) & -(u=v) -> exists z x y.(IND(z) & ALT(x) & ALT(y) & PRO(z,x,y,u) & PRO(z,y,x,v)))'\n",
    "inj = parser.to_nltk(inj)\n",
    "axioms.append(inj)\n",
    "inj"
   ]
  },
  {
   "cell_type": "markdown",
   "metadata": {},
   "source": [
    "# PERM"
   ]
  },
  {
   "cell_type": "code",
   "execution_count": null,
   "metadata": {},
   "outputs": [],
   "source": [
    "\n",
    "perm0 = 'SIT(v)'\n",
    "perm1 = 'PRO(z,y,x,v)'\n",
    "perm2 = 'all x1.(PRO(z,x,x1,u) & PRO(z,x1,y,u) -> PRO(z,x1,x,v) & PRO(z,y,x1,v))'\n",
    "perm3 = 'all x1.((PRO(z,x1,x,u) -> PRO(z,x1,y,v)) & (PRO(z,y,x1,u) -> PRO(z,x,x1,v)))'\n",
    "perm4 = 'all x1 y1.((-(x1=x) & -(x1=y) & -(y1=y) & -(y1=x)) -> ((PRO(z,x1,y1,u) -> PRO(z,x1,y1,v)) & (PRO(z,x1,y1,v) -> PRO(z,x1,y1,u))))'\n",
    "perm5 = 'all z1 x1 y1.(-(z1=z) -> ((PRO(z,x1,y1,u) -> PRO(z,x1,y1,v)) & (PRO(z,x1,y1,v) -> PRO(z,x1,y1,u))))'\n",
    "perms = [perm0, perm1, perm2, perm3, perm4, perm5]\n",
    "perm = f'all x y z u v.(PRO(z,x,y,u) -> exists v.({LogUtils.Ytoria(perms)}))'\n",
    "perm = parser.to_nltk(perm)\n",
    "axioms.append(perm)\n",
    "perm"
   ]
  },
  {
   "cell_type": "markdown",
   "metadata": {},
   "source": [
    "# UN"
   ]
  },
  {
   "cell_type": "code",
   "execution_count": null,
   "metadata": {},
   "outputs": [],
   "source": [
    "un = 'all u x y z.(SIT(u) & ALT(x) & ALT(y) -> ((all z.(IND(z) -> PRO(z,x,y,u))) -> WEL(x,y,u)))'\n",
    "un = parser.to_nltk(un)\n",
    "axioms.append(un)\n",
    "un"
   ]
  },
  {
   "cell_type": "markdown",
   "metadata": {},
   "source": [
    "# IIA"
   ]
  },
  {
   "cell_type": "code",
   "execution_count": null,
   "metadata": {},
   "outputs": [],
   "source": [
    "antecedente = 'all z.(IND(z) -> ((PRO(z,x,y,u,u1) -> PRO(z,x,y,u,u2)) & (PRO(z,x,y,u,u2) -> PRO(z,x,y,u,u1))))'\n",
    "consecuente = '(WEL(x,y,u1) -> WEL(x,y,u2)) & (WEL(x,y,u2) -> WEL(x,y,u1))'\n",
    "iia = f'all u u1 u2 x y.((SIT(u1) & SIT(u2) & ALT(x) & ALT(y))->({antecedente} -> {consecuente}))'\n",
    "iia = parser.to_nltk(iia)\n",
    "axioms.append(iia)\n",
    "iia"
   ]
  },
  {
   "cell_type": "markdown",
   "metadata": {},
   "source": [
    "# ND"
   ]
  },
  {
   "cell_type": "code",
   "execution_count": null,
   "metadata": {},
   "outputs": [],
   "source": [
    "nd = 'all x y z u.(IND(z) -> exists x y u.(SIT(u) & ALT(x) & ALT(y) & PRO(z,x,y,u) & WEL(x,y,u)))'\n",
    "nd = parser.to_nltk(nd)\n",
    "axioms.append(nd)\n",
    "nd"
   ]
  },
  {
   "cell_type": "markdown",
   "metadata": {},
   "source": [
    "# Create single formula in Propositional Logic"
   ]
  },
  {
   "cell_type": "code",
   "execution_count": null,
   "metadata": {},
   "outputs": [
    {
     "data": {
      "text/plain": [
       "<AllExpression all z u x y.((IND(z) & SIT(u) & ALT(x) & ALT(y)) -> (PRO(z,x,y,u) | PRO(z,y,x,u) | (x = y)))>"
      ]
     },
     "execution_count": 20,
     "metadata": {},
     "output_type": "execute_result"
    }
   ],
   "source": [
    "theory = LogUtils.Ytoria(axioms)\n",
    "theory"
   ]
  },
  {
   "cell_type": "code",
   "execution_count": 21,
   "metadata": {},
   "outputs": [
    {
     "name": "stdout",
     "output_type": "stream",
     "text": [
      "\n",
      "====================COMPONENTES DEL MODELO====================\n",
      "\n",
      "Entidades:\n",
      "\n",
      "\tTipo: individuo\n",
      "\t=> ind\n",
      "\t=> sit\n",
      "\t=> alt\n",
      "\n",
      "Predicados:\n",
      "\n",
      "\t=> IND\n",
      "\t=> SIT\n",
      "\t=> ALT\n",
      "\t=> PRO\n",
      "\t=> IGUALDAD\n",
      "\n",
      "========================FIN DEL MODELO========================\n",
      "\n"
     ]
    }
   ],
   "source": [
    "lt = LogicTester()\n",
    "theory = lt.to_lp.clases_no_vacias(theory)\n",
    "lt.to_lp.modelo_lp.poblar_con(theory)\n",
    "print(lt.to_lp.modelo_lp)"
   ]
  },
  {
   "cell_type": "markdown",
   "metadata": {},
   "source": [
    "## Check model"
   ]
  },
  {
   "cell_type": "markdown",
   "metadata": {},
   "source": [
    "---"
   ]
  },
  {
   "cell_type": "code",
   "execution_count": 22,
   "metadata": {},
   "outputs": [
    {
     "name": "stdout",
     "output_type": "stream",
     "text": [
      "Iniciando traduccion...\n",
      "Creando modelo...\n",
      "Creando formula igualdades...\n",
      "Quitando iffs...\n",
      "Fundamentando...\n",
      "Codificando...\n"
     ]
    },
    {
     "ename": "Exception",
     "evalue": "¡Error al codificar formula atómica PRO(ind,x0,x1,x2)!\n'x0' is not in list\n['ind', 'sit', 'alt', 'IND', 'SIT', 'ALT', 'PRO', 'IGUALDAD']",
     "output_type": "error",
     "traceback": [
      "\u001b[31m---------------------------------------------------------------------------\u001b[39m",
      "\u001b[31mValueError\u001b[39m                                Traceback (most recent call last)",
      "\u001b[36mFile \u001b[39m\u001b[32m~/Documents/GitHub/groundedPL/examples/../groundedPL/codificacion.py:415\u001b[39m, in \u001b[36mModelo.codificar_\u001b[39m\u001b[34m(self, pred)\u001b[39m\n\u001b[32m    414\u001b[39m     predicado = [\u001b[38;5;28mself\u001b[39m.vocabulario.index(\u001b[38;5;28mstr\u001b[39m(pred.pred))]\n\u001b[32m--> \u001b[39m\u001b[32m415\u001b[39m     argumentos = \u001b[43m[\u001b[49m\u001b[38;5;28;43mself\u001b[39;49m\u001b[43m.\u001b[49m\u001b[43mvocabulario\u001b[49m\u001b[43m.\u001b[49m\u001b[43mindex\u001b[49m\u001b[43m(\u001b[49m\u001b[38;5;28;43mstr\u001b[39;49m\u001b[43m(\u001b[49m\u001b[43mx\u001b[49m\u001b[43m)\u001b[49m\u001b[43m)\u001b[49m\u001b[43m \u001b[49m\u001b[38;5;28;43;01mfor\u001b[39;49;00m\u001b[43m \u001b[49m\u001b[43mx\u001b[49m\u001b[43m \u001b[49m\u001b[38;5;129;43;01min\u001b[39;49;00m\u001b[43m \u001b[49m\u001b[43mpred\u001b[49m\u001b[43m.\u001b[49m\u001b[43margs\u001b[49m\u001b[43m]\u001b[49m\n\u001b[32m    416\u001b[39m \u001b[38;5;28;01mexcept\u001b[39;00m \u001b[38;5;167;01mException\u001b[39;00m \u001b[38;5;28;01mas\u001b[39;00m e:\n",
      "\u001b[36mFile \u001b[39m\u001b[32m~/Documents/GitHub/groundedPL/examples/../groundedPL/codificacion.py:415\u001b[39m, in \u001b[36m<listcomp>\u001b[39m\u001b[34m(.0)\u001b[39m\n\u001b[32m    414\u001b[39m     predicado = [\u001b[38;5;28mself\u001b[39m.vocabulario.index(\u001b[38;5;28mstr\u001b[39m(pred.pred))]\n\u001b[32m--> \u001b[39m\u001b[32m415\u001b[39m     argumentos = [\u001b[38;5;28mself\u001b[39m.vocabulario.index(\u001b[38;5;28mstr\u001b[39m(x)) \u001b[38;5;28;01mfor\u001b[39;00m x \u001b[38;5;129;01min\u001b[39;00m pred.args]\n\u001b[32m    416\u001b[39m \u001b[38;5;28;01mexcept\u001b[39;00m \u001b[38;5;167;01mException\u001b[39;00m \u001b[38;5;28;01mas\u001b[39;00m e:\n",
      "\u001b[31mValueError\u001b[39m: 'x0' is not in list",
      "\nDuring handling of the above exception, another exception occurred:\n",
      "\u001b[31mException\u001b[39m                                 Traceback (most recent call last)",
      "\u001b[36mCell\u001b[39m\u001b[36m \u001b[39m\u001b[32mIn[22]\u001b[39m\u001b[32m, line 3\u001b[39m\n\u001b[32m      1\u001b[39m \u001b[38;5;28mprint\u001b[39m(\u001b[33m'\u001b[39m\u001b[33mIniciando traduccion...\u001b[39m\u001b[33m'\u001b[39m)\n\u001b[32m      2\u001b[39m lt.to_lp.debug = \u001b[38;5;28;01mTrue\u001b[39;00m\n\u001b[32m----> \u001b[39m\u001b[32m3\u001b[39m formula_lp = \u001b[43mlt\u001b[49m\u001b[43m.\u001b[49m\u001b[43mtranslation_to_prover\u001b[49m\u001b[43m(\u001b[49m\u001b[43mtheory\u001b[49m\u001b[43m)\u001b[49m\n\u001b[32m      4\u001b[39m \u001b[38;5;28mprint\u001b[39m(\u001b[33m'\u001b[39m\u001b[33mResolviendo con SAT...\u001b[39m\u001b[33m'\u001b[39m)\n\u001b[32m      5\u001b[39m res = lt.SATsolve(formula_lp)\n",
      "\u001b[36mFile \u001b[39m\u001b[32m~/Documents/GitHub/groundedPL/examples/../groundedPL/logic_tester.py:36\u001b[39m, in \u001b[36mLogicTester.translation_to_prover\u001b[39m\u001b[34m(self, sentence)\u001b[39m\n\u001b[32m     32\u001b[39m \u001b[38;5;28;01mdef\u001b[39;00m\u001b[38;5;250m \u001b[39m\u001b[34mtranslation_to_prover\u001b[39m(\u001b[38;5;28mself\u001b[39m, sentence:\u001b[38;5;28mstr\u001b[39m) -> \u001b[38;5;28mstr\u001b[39m:\n\u001b[32m     33\u001b[39m \u001b[38;5;250m    \u001b[39m\u001b[33;03m'''\u001b[39;00m\n\u001b[32m     34\u001b[39m \u001b[33;03m    Translate a sentence to prover format.\u001b[39;00m\n\u001b[32m     35\u001b[39m \u001b[33;03m    '''\u001b[39;00m\n\u001b[32m---> \u001b[39m\u001b[32m36\u001b[39m     sentence_lp = \u001b[38;5;28;43mself\u001b[39;49m\u001b[43m.\u001b[49m\u001b[43mto_lp\u001b[49m\u001b[43m.\u001b[49m\u001b[43mparse\u001b[49m\u001b[43m(\u001b[49m\u001b[43msentence\u001b[49m\u001b[43m)\u001b[49m\n\u001b[32m     37\u001b[39m     \u001b[38;5;28;01mreturn\u001b[39;00m sentence_lp\n",
      "\u001b[36mFile \u001b[39m\u001b[32m~/Documents/GitHub/groundedPL/examples/../groundedPL/codificacion.py:55\u001b[39m, in \u001b[36mToPropositionalLogic.parse\u001b[39m\u001b[34m(self, sentence)\u001b[39m\n\u001b[32m     53\u001b[39m \u001b[38;5;28;01mif\u001b[39;00m \u001b[38;5;28mself\u001b[39m.debug:\n\u001b[32m     54\u001b[39m      \u001b[38;5;28mprint\u001b[39m(\u001b[33m'\u001b[39m\u001b[33mCodificando...\u001b[39m\u001b[33m'\u001b[39m)\n\u001b[32m---> \u001b[39m\u001b[32m55\u001b[39m formula_lp = \u001b[38;5;28;43mself\u001b[39;49m\u001b[43m.\u001b[49m\u001b[43mmodelo_lp\u001b[49m\u001b[43m.\u001b[49m\u001b[43mcodificar_lp\u001b[49m\u001b[43m(\u001b[49m\u001b[43mformula_fundamentada\u001b[49m\u001b[43m)\u001b[49m\n\u001b[32m     56\u001b[39m \u001b[38;5;28;01mif\u001b[39;00m \u001b[38;5;28mself\u001b[39m.debug:\n\u001b[32m     57\u001b[39m     \u001b[38;5;28mprint\u001b[39m(\u001b[33mf\u001b[39m\u001b[33m'\u001b[39m\u001b[38;5;130;01m\\n\u001b[39;00m\u001b[38;5;130;01m\\n\u001b[39;00m\u001b[33mLa oración inicial es:\u001b[39m\u001b[38;5;130;01m\\n\u001b[39;00m\u001b[38;5;132;01m{\u001b[39;00msentence\u001b[38;5;132;01m}\u001b[39;00m\u001b[33m'\u001b[39m)\n",
      "\u001b[36mFile \u001b[39m\u001b[32m~/Documents/GitHub/groundedPL/examples/../groundedPL/codificacion.py:381\u001b[39m, in \u001b[36mModelo.codificar_lp\u001b[39m\u001b[34m(self, expresion)\u001b[39m\n\u001b[32m    379\u001b[39m \u001b[38;5;28;01melif\u001b[39;00m tipo \u001b[38;5;129;01min\u001b[39;00m [\u001b[33m'\u001b[39m\u001b[33mAndExpression\u001b[39m\u001b[33m'\u001b[39m]:\n\u001b[32m    380\u001b[39m     first = \u001b[38;5;28mself\u001b[39m.codificar_lp(expresion.first)\n\u001b[32m--> \u001b[39m\u001b[32m381\u001b[39m     second = \u001b[38;5;28;43mself\u001b[39;49m\u001b[43m.\u001b[49m\u001b[43mcodificar_lp\u001b[49m\u001b[43m(\u001b[49m\u001b[43mexpresion\u001b[49m\u001b[43m.\u001b[49m\u001b[43msecond\u001b[49m\u001b[43m)\u001b[49m\n\u001b[32m    382\u001b[39m     \u001b[38;5;28;01mreturn\u001b[39;00m \u001b[33mf\u001b[39m\u001b[33m'\u001b[39m\u001b[33m(\u001b[39m\u001b[38;5;132;01m{\u001b[39;00mfirst\u001b[38;5;132;01m}\u001b[39;00m\u001b[33m∧\u001b[39m\u001b[38;5;132;01m{\u001b[39;00msecond\u001b[38;5;132;01m}\u001b[39;00m\u001b[33m)\u001b[39m\u001b[33m'\u001b[39m\n\u001b[32m    383\u001b[39m \u001b[38;5;28;01melif\u001b[39;00m tipo \u001b[38;5;129;01min\u001b[39;00m [\u001b[33m'\u001b[39m\u001b[33mOrExpression\u001b[39m\u001b[33m'\u001b[39m]:\n",
      "\u001b[36mFile \u001b[39m\u001b[32m~/Documents/GitHub/groundedPL/examples/../groundedPL/codificacion.py:380\u001b[39m, in \u001b[36mModelo.codificar_lp\u001b[39m\u001b[34m(self, expresion)\u001b[39m\n\u001b[32m    378\u001b[39m     \u001b[38;5;28;01mraise\u001b[39;00m \u001b[38;5;167;01mException\u001b[39;00m(\u001b[33mf\u001b[39m\u001b[33m'\u001b[39m\u001b[33m¡Expresión no está fundamentada!\u001b[39m\u001b[33m'\u001b[39m)\n\u001b[32m    379\u001b[39m \u001b[38;5;28;01melif\u001b[39;00m tipo \u001b[38;5;129;01min\u001b[39;00m [\u001b[33m'\u001b[39m\u001b[33mAndExpression\u001b[39m\u001b[33m'\u001b[39m]:\n\u001b[32m--> \u001b[39m\u001b[32m380\u001b[39m     first = \u001b[38;5;28;43mself\u001b[39;49m\u001b[43m.\u001b[49m\u001b[43mcodificar_lp\u001b[49m\u001b[43m(\u001b[49m\u001b[43mexpresion\u001b[49m\u001b[43m.\u001b[49m\u001b[43mfirst\u001b[49m\u001b[43m)\u001b[49m\n\u001b[32m    381\u001b[39m     second = \u001b[38;5;28mself\u001b[39m.codificar_lp(expresion.second)\n\u001b[32m    382\u001b[39m     \u001b[38;5;28;01mreturn\u001b[39;00m \u001b[33mf\u001b[39m\u001b[33m'\u001b[39m\u001b[33m(\u001b[39m\u001b[38;5;132;01m{\u001b[39;00mfirst\u001b[38;5;132;01m}\u001b[39;00m\u001b[33m∧\u001b[39m\u001b[38;5;132;01m{\u001b[39;00msecond\u001b[38;5;132;01m}\u001b[39;00m\u001b[33m)\u001b[39m\u001b[33m'\u001b[39m\n",
      "\u001b[36mFile \u001b[39m\u001b[32m~/Documents/GitHub/groundedPL/examples/../groundedPL/codificacion.py:380\u001b[39m, in \u001b[36mModelo.codificar_lp\u001b[39m\u001b[34m(self, expresion)\u001b[39m\n\u001b[32m    378\u001b[39m     \u001b[38;5;28;01mraise\u001b[39;00m \u001b[38;5;167;01mException\u001b[39;00m(\u001b[33mf\u001b[39m\u001b[33m'\u001b[39m\u001b[33m¡Expresión no está fundamentada!\u001b[39m\u001b[33m'\u001b[39m)\n\u001b[32m    379\u001b[39m \u001b[38;5;28;01melif\u001b[39;00m tipo \u001b[38;5;129;01min\u001b[39;00m [\u001b[33m'\u001b[39m\u001b[33mAndExpression\u001b[39m\u001b[33m'\u001b[39m]:\n\u001b[32m--> \u001b[39m\u001b[32m380\u001b[39m     first = \u001b[38;5;28;43mself\u001b[39;49m\u001b[43m.\u001b[49m\u001b[43mcodificar_lp\u001b[49m\u001b[43m(\u001b[49m\u001b[43mexpresion\u001b[49m\u001b[43m.\u001b[49m\u001b[43mfirst\u001b[49m\u001b[43m)\u001b[49m\n\u001b[32m    381\u001b[39m     second = \u001b[38;5;28mself\u001b[39m.codificar_lp(expresion.second)\n\u001b[32m    382\u001b[39m     \u001b[38;5;28;01mreturn\u001b[39;00m \u001b[33mf\u001b[39m\u001b[33m'\u001b[39m\u001b[33m(\u001b[39m\u001b[38;5;132;01m{\u001b[39;00mfirst\u001b[38;5;132;01m}\u001b[39;00m\u001b[33m∧\u001b[39m\u001b[38;5;132;01m{\u001b[39;00msecond\u001b[38;5;132;01m}\u001b[39;00m\u001b[33m)\u001b[39m\u001b[33m'\u001b[39m\n",
      "    \u001b[31m[... skipping similar frames: Modelo.codificar_lp at line 380 (12 times)]\u001b[39m\n",
      "\u001b[36mFile \u001b[39m\u001b[32m~/Documents/GitHub/groundedPL/examples/../groundedPL/codificacion.py:380\u001b[39m, in \u001b[36mModelo.codificar_lp\u001b[39m\u001b[34m(self, expresion)\u001b[39m\n\u001b[32m    378\u001b[39m     \u001b[38;5;28;01mraise\u001b[39;00m \u001b[38;5;167;01mException\u001b[39;00m(\u001b[33mf\u001b[39m\u001b[33m'\u001b[39m\u001b[33m¡Expresión no está fundamentada!\u001b[39m\u001b[33m'\u001b[39m)\n\u001b[32m    379\u001b[39m \u001b[38;5;28;01melif\u001b[39;00m tipo \u001b[38;5;129;01min\u001b[39;00m [\u001b[33m'\u001b[39m\u001b[33mAndExpression\u001b[39m\u001b[33m'\u001b[39m]:\n\u001b[32m--> \u001b[39m\u001b[32m380\u001b[39m     first = \u001b[38;5;28;43mself\u001b[39;49m\u001b[43m.\u001b[49m\u001b[43mcodificar_lp\u001b[49m\u001b[43m(\u001b[49m\u001b[43mexpresion\u001b[49m\u001b[43m.\u001b[49m\u001b[43mfirst\u001b[49m\u001b[43m)\u001b[49m\n\u001b[32m    381\u001b[39m     second = \u001b[38;5;28mself\u001b[39m.codificar_lp(expresion.second)\n\u001b[32m    382\u001b[39m     \u001b[38;5;28;01mreturn\u001b[39;00m \u001b[33mf\u001b[39m\u001b[33m'\u001b[39m\u001b[33m(\u001b[39m\u001b[38;5;132;01m{\u001b[39;00mfirst\u001b[38;5;132;01m}\u001b[39;00m\u001b[33m∧\u001b[39m\u001b[38;5;132;01m{\u001b[39;00msecond\u001b[38;5;132;01m}\u001b[39;00m\u001b[33m)\u001b[39m\u001b[33m'\u001b[39m\n",
      "\u001b[36mFile \u001b[39m\u001b[32m~/Documents/GitHub/groundedPL/examples/../groundedPL/codificacion.py:381\u001b[39m, in \u001b[36mModelo.codificar_lp\u001b[39m\u001b[34m(self, expresion)\u001b[39m\n\u001b[32m    379\u001b[39m \u001b[38;5;28;01melif\u001b[39;00m tipo \u001b[38;5;129;01min\u001b[39;00m [\u001b[33m'\u001b[39m\u001b[33mAndExpression\u001b[39m\u001b[33m'\u001b[39m]:\n\u001b[32m    380\u001b[39m     first = \u001b[38;5;28mself\u001b[39m.codificar_lp(expresion.first)\n\u001b[32m--> \u001b[39m\u001b[32m381\u001b[39m     second = \u001b[38;5;28;43mself\u001b[39;49m\u001b[43m.\u001b[49m\u001b[43mcodificar_lp\u001b[49m\u001b[43m(\u001b[49m\u001b[43mexpresion\u001b[49m\u001b[43m.\u001b[49m\u001b[43msecond\u001b[49m\u001b[43m)\u001b[49m\n\u001b[32m    382\u001b[39m     \u001b[38;5;28;01mreturn\u001b[39;00m \u001b[33mf\u001b[39m\u001b[33m'\u001b[39m\u001b[33m(\u001b[39m\u001b[38;5;132;01m{\u001b[39;00mfirst\u001b[38;5;132;01m}\u001b[39;00m\u001b[33m∧\u001b[39m\u001b[38;5;132;01m{\u001b[39;00msecond\u001b[38;5;132;01m}\u001b[39;00m\u001b[33m)\u001b[39m\u001b[33m'\u001b[39m\n\u001b[32m    383\u001b[39m \u001b[38;5;28;01melif\u001b[39;00m tipo \u001b[38;5;129;01min\u001b[39;00m [\u001b[33m'\u001b[39m\u001b[33mOrExpression\u001b[39m\u001b[33m'\u001b[39m]:\n",
      "\u001b[36mFile \u001b[39m\u001b[32m~/Documents/GitHub/groundedPL/examples/../groundedPL/codificacion.py:389\u001b[39m, in \u001b[36mModelo.codificar_lp\u001b[39m\u001b[34m(self, expresion)\u001b[39m\n\u001b[32m    387\u001b[39m \u001b[38;5;28;01melif\u001b[39;00m tipo \u001b[38;5;129;01min\u001b[39;00m [\u001b[33m'\u001b[39m\u001b[33mImpExpression\u001b[39m\u001b[33m'\u001b[39m]:\n\u001b[32m    388\u001b[39m     first = \u001b[38;5;28mself\u001b[39m.codificar_lp(expresion.first)\n\u001b[32m--> \u001b[39m\u001b[32m389\u001b[39m     second = \u001b[38;5;28;43mself\u001b[39;49m\u001b[43m.\u001b[49m\u001b[43mcodificar_lp\u001b[49m\u001b[43m(\u001b[49m\u001b[43mexpresion\u001b[49m\u001b[43m.\u001b[49m\u001b[43msecond\u001b[49m\u001b[43m)\u001b[49m\n\u001b[32m    390\u001b[39m     \u001b[38;5;28;01mreturn\u001b[39;00m \u001b[33mf\u001b[39m\u001b[33m'\u001b[39m\u001b[33m(\u001b[39m\u001b[38;5;132;01m{\u001b[39;00mfirst\u001b[38;5;132;01m}\u001b[39;00m\u001b[33m>\u001b[39m\u001b[38;5;132;01m{\u001b[39;00msecond\u001b[38;5;132;01m}\u001b[39;00m\u001b[33m)\u001b[39m\u001b[33m'\u001b[39m\n\u001b[32m    391\u001b[39m \u001b[38;5;28;01melif\u001b[39;00m tipo \u001b[38;5;129;01min\u001b[39;00m [\u001b[33m'\u001b[39m\u001b[33mNegatedExpression\u001b[39m\u001b[33m'\u001b[39m]:\n",
      "\u001b[36mFile \u001b[39m\u001b[32m~/Documents/GitHub/groundedPL/examples/../groundedPL/codificacion.py:395\u001b[39m, in \u001b[36mModelo.codificar_lp\u001b[39m\u001b[34m(self, expresion)\u001b[39m\n\u001b[32m    393\u001b[39m     \u001b[38;5;28;01mreturn\u001b[39;00m \u001b[33mf\u001b[39m\u001b[33m'\u001b[39m\u001b[33m-\u001b[39m\u001b[38;5;132;01m{\u001b[39;00mterm\u001b[38;5;132;01m}\u001b[39;00m\u001b[33m'\u001b[39m\n\u001b[32m    394\u001b[39m \u001b[38;5;28;01melif\u001b[39;00m tipo \u001b[38;5;129;01min\u001b[39;00m [\u001b[33m'\u001b[39m\u001b[33mApplicationExpression\u001b[39m\u001b[33m'\u001b[39m, \u001b[33m'\u001b[39m\u001b[33mEqualityExpression\u001b[39m\u001b[33m'\u001b[39m]:\n\u001b[32m--> \u001b[39m\u001b[32m395\u001b[39m     \u001b[38;5;28;01mreturn\u001b[39;00m \u001b[38;5;28;43mself\u001b[39;49m\u001b[43m.\u001b[49m\u001b[43mcodificar_\u001b[49m\u001b[43m(\u001b[49m\u001b[43mexpresion\u001b[49m\u001b[43m)\u001b[49m\n\u001b[32m    396\u001b[39m \u001b[38;5;28;01melse\u001b[39;00m:\n\u001b[32m    397\u001b[39m     \u001b[38;5;28;01mraise\u001b[39;00m \u001b[38;5;167;01mException\u001b[39;00m(\u001b[33mf\u001b[39m\u001b[33m'\u001b[39m\u001b[33m¡Tipo de expresión desconocido! \u001b[39m\u001b[38;5;132;01m{\u001b[39;00mtipo\u001b[38;5;132;01m}\u001b[39;00m\u001b[33m'\u001b[39m)\n",
      "\u001b[36mFile \u001b[39m\u001b[32m~/Documents/GitHub/groundedPL/examples/../groundedPL/codificacion.py:417\u001b[39m, in \u001b[36mModelo.codificar_\u001b[39m\u001b[34m(self, pred)\u001b[39m\n\u001b[32m    415\u001b[39m         argumentos = [\u001b[38;5;28mself\u001b[39m.vocabulario.index(\u001b[38;5;28mstr\u001b[39m(x)) \u001b[38;5;28;01mfor\u001b[39;00m x \u001b[38;5;129;01min\u001b[39;00m pred.args]\n\u001b[32m    416\u001b[39m     \u001b[38;5;28;01mexcept\u001b[39;00m \u001b[38;5;167;01mException\u001b[39;00m \u001b[38;5;28;01mas\u001b[39;00m e:\n\u001b[32m--> \u001b[39m\u001b[32m417\u001b[39m         \u001b[38;5;28;01mraise\u001b[39;00m \u001b[38;5;167;01mException\u001b[39;00m(\u001b[33mf\u001b[39m\u001b[33m'\u001b[39m\u001b[33m¡Error al codificar formula atómica \u001b[39m\u001b[38;5;132;01m{\u001b[39;00mpred\u001b[38;5;132;01m}\u001b[39;00m\u001b[33m!\u001b[39m\u001b[38;5;130;01m\\n\u001b[39;00m\u001b[38;5;132;01m{\u001b[39;00me\u001b[38;5;132;01m}\u001b[39;00m\u001b[38;5;130;01m\\n\u001b[39;00m\u001b[38;5;132;01m{\u001b[39;00m\u001b[38;5;28mself\u001b[39m.vocabulario\u001b[38;5;132;01m}\u001b[39;00m\u001b[33m'\u001b[39m)\n\u001b[32m    418\u001b[39m \u001b[38;5;66;03m# print('')\u001b[39;00m\n\u001b[32m    419\u001b[39m \u001b[38;5;66;03m# print('-'*50)\u001b[39;00m\n\u001b[32m    420\u001b[39m \u001b[38;5;66;03m# print(f'vocabulario => {self.vocabulario}')\u001b[39;00m\n\u001b[32m    421\u001b[39m \u001b[38;5;66;03m# print(f'Codificando {pred}')\u001b[39;00m\n\u001b[32m    422\u001b[39m \u001b[38;5;66;03m# print(f'predicado {str(pred.pred)} index {self.vocabulario.index(str(pred.pred))}')\u001b[39;00m\n\u001b[32m    423\u001b[39m \u001b[38;5;66;03m# print(f'argumentos {pred.args} index {argumentos}')\u001b[39;00m\n\u001b[32m    424\u001b[39m lista_valores = predicado + argumentos\n",
      "\u001b[31mException\u001b[39m: ¡Error al codificar formula atómica PRO(ind,x0,x1,x2)!\n'x0' is not in list\n['ind', 'sit', 'alt', 'IND', 'SIT', 'ALT', 'PRO', 'IGUALDAD']"
     ]
    }
   ],
   "source": [
    "print('Iniciando traduccion...')\n",
    "lt.to_lp.debug = True\n",
    "formula_lp = lt.translation_to_prover(theory)\n",
    "print('Resolviendo con SAT...')\n",
    "res = lt.SATsolve(formula_lp)\n",
    "if res == 'UNSAT':\n",
    "    print('La fórmula es insatisfacible')\n",
    "else:\n",
    "    print('La fórmula es satisfacible')\n",
    "    modelo = lt.decodificar_modelo_SAT(res)\n",
    "    print(f'\\nEl modelo decodificado es:')\n",
    "    pprint.pp(modelo)"
   ]
  },
  {
   "cell_type": "code",
   "execution_count": null,
   "metadata": {},
   "outputs": [],
   "source": []
  }
 ],
 "metadata": {
  "kernelspec": {
   "display_name": "3.11.5",
   "language": "python",
   "name": "python3"
  },
  "language_info": {
   "codemirror_mode": {
    "name": "ipython",
    "version": 3
   },
   "file_extension": ".py",
   "mimetype": "text/x-python",
   "name": "python",
   "nbconvert_exporter": "python",
   "pygments_lexer": "ipython3",
   "version": "3.11.5"
  }
 },
 "nbformat": 4,
 "nbformat_minor": 4
}
