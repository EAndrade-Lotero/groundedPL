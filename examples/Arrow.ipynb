{
 "cells": [
  {
   "cell_type": "code",
   "execution_count": 55,
   "metadata": {},
   "outputs": [],
   "source": [
    "#!pip install python-sat"
   ]
  },
  {
   "cell_type": "code",
   "execution_count": 56,
   "metadata": {},
   "outputs": [],
   "source": [
    "import sys\n",
    "\n",
    "sys.path.append('..')"
   ]
  },
  {
   "cell_type": "code",
   "execution_count": 57,
   "metadata": {},
   "outputs": [],
   "source": [
    "from random import choice\n",
    "from itertools import product, combinations\n",
    "from groundedPL.codificacion import ToPropositionalLogic\n",
    "from groundedPL.logUtils import LogUtils\n",
    "from groundedPL.logic_tester import LogicTester\n",
    "\n",
    "filas = ['fila1', 'fila2', 'fila3']\n",
    "columnas = ['columna1', 'columna2', 'columna3']\n",
    "\n",
    "parser = ToPropositionalLogic()"
   ]
  },
  {
   "cell_type": "code",
   "execution_count": 58,
   "metadata": {},
   "outputs": [],
   "source": [
    "axioms = []"
   ]
  },
  {
   "cell_type": "markdown",
   "metadata": {},
   "source": [
    "# Axioms of linear order for p"
   ]
  },
  {
   "cell_type": "code",
   "execution_count": null,
   "metadata": {},
   "outputs": [
    {
     "data": {
      "text/plain": [
       "<ImpExpression ((I(z) & S(u) & A(x) & A(y)) -> (P(z,x,y,u) | P(z,y,x,u) | (x = y)))>"
      ]
     },
     "execution_count": 59,
     "metadata": {},
     "output_type": "execute_result"
    }
   ],
   "source": [
    "linp1 = 'I(z) & S(u) & A(x) & A(y) -> (P(z,x,y,u) | P(z,y,x,u) | x = y )' \n",
    "linp1 = parser.to_nltk(linp1)\n",
    "axioms.append(linp1)\n",
    "linp1"
   ]
  },
  {
   "cell_type": "code",
   "execution_count": null,
   "metadata": {},
   "outputs": [
    {
     "data": {
      "text/plain": [
       "<ImpExpression ((I(z) & S(u) & A(x)) -> -P(z,x,y,u))>"
      ]
     },
     "execution_count": 60,
     "metadata": {},
     "output_type": "execute_result"
    }
   ],
   "source": [
    "linp2 = 'I(z) & S(u) & A(x) -> -P(z,x,y,u) ' \n",
    "linp2 = parser.to_nltk(linp2)\n",
    "axioms.append(linp2)\n",
    "linp2"
   ]
  },
  {
   "cell_type": "code",
   "execution_count": null,
   "metadata": {},
   "outputs": [
    {
     "data": {
      "text/plain": [
       "<ImpExpression ((I(z) & S(u) & A(x1) & A(x2) & A(x3) & P(z,x1,x2,u) & P(z,x2,x3,u)) -> P(z,x1,x3,u))>"
      ]
     },
     "execution_count": 61,
     "metadata": {},
     "output_type": "execute_result"
    }
   ],
   "source": [
    "linp3 = 'I(z) & S(u) & A(x1) & A(x2) & A(x3) & P(z,x1,x2,u) & P(z,x2,x3,u)-> P(z,x1,x3,u) ' \n",
    "linp3 = parser.to_nltk(linp3)\n",
    "axioms.append(linp3)\n",
    "linp3"
   ]
  },
  {
   "cell_type": "markdown",
   "metadata": {},
   "source": [
    "# Axioms for w"
   ]
  },
  {
   "cell_type": "code",
   "execution_count": null,
   "metadata": {},
   "outputs": [
    {
     "data": {
      "text/plain": [
       "<ImpExpression ((S(u) & A(x) & A(y)) -> (W(x,y,u) | W(y,x,u) | (x = y)))>"
      ]
     },
     "execution_count": 62,
     "metadata": {},
     "output_type": "execute_result"
    }
   ],
   "source": [
    "linw1 = 'S(u) & A(x) & A(y) -> (W(x,y,u) | W(y,x,u) | x = y )' \n",
    "linw1 = parser.to_nltk(linw1)\n",
    "axioms.append(linw1)\n",
    "linw1"
   ]
  },
  {
   "cell_type": "code",
   "execution_count": null,
   "metadata": {},
   "outputs": [
    {
     "data": {
      "text/plain": [
       "<ImpExpression ((S(u) & A(x)) -> -W(x,y,u))>"
      ]
     },
     "execution_count": 63,
     "metadata": {},
     "output_type": "execute_result"
    }
   ],
   "source": [
    "linw2 = 'S(u) & A(x) -> -W(x,y,u)' \n",
    "linw2 = parser.to_nltk(linw2)\n",
    "axioms.append(linw2)\n",
    "linw2"
   ]
  },
  {
   "cell_type": "code",
   "execution_count": null,
   "metadata": {},
   "outputs": [
    {
     "data": {
      "text/plain": [
       "<ImpExpression ((S(u) & A(x) & A(y) & A(t) & W(x,y,u) & W(y,t,u)) -> W(x,t,u))>"
      ]
     },
     "execution_count": 64,
     "metadata": {},
     "output_type": "execute_result"
    }
   ],
   "source": [
    "linw3 = 'S(u) & A(x) & A(y) & A(t) & W(x,y,u) & W(y,t,u)-> W(x,t,u) ' \n",
    "linw3 = parser.to_nltk(linw3)\n",
    "axioms.append(linw3)\n",
    "linw3"
   ]
  },
  {
   "cell_type": "markdown",
   "metadata": {},
   "source": [
    "# MIN"
   ]
  },
  {
   "cell_type": "code",
   "execution_count": 71,
   "metadata": {},
   "outputs": [
    {
     "data": {
      "text/plain": [
       "<AndExpression (A(a1) & A(a2) & A(a3) & I(i1) & S(s1))>"
      ]
     },
     "execution_count": 71,
     "metadata": {},
     "output_type": "execute_result"
    }
   ],
   "source": [
    "min1 = 'A(a1) & A(a2) & A(a3) & I(i1) & S(s1)'\n",
    "min1 = parser.to_nltk(min1)\n",
    "axioms.append(min1)\n",
    "min1"
   ]
  },
  {
   "cell_type": "code",
   "execution_count": 72,
   "metadata": {},
   "outputs": [
    {
     "data": {
      "text/plain": [
       "<AndExpression (-(a1 = a2) & -(a1 = a3) & -(a2 = a3))>"
      ]
     },
     "execution_count": 72,
     "metadata": {},
     "output_type": "execute_result"
    }
   ],
   "source": [
    "min2 = '-(a1 = a2) & -(a1 = a3)  & -(a2 = a3) '\n",
    "min2 = parser.to_nltk(min2)\n",
    "axioms.append(min2)\n",
    "min2"
   ]
  },
  {
   "cell_type": "markdown",
   "metadata": {},
   "source": [
    "# PART"
   ]
  },
  {
   "cell_type": "code",
   "execution_count": 73,
   "metadata": {},
   "outputs": [
    {
     "data": {
      "text/plain": [
       "<ImpExpression (A(x) -> (-I(x) & -S(x)))>"
      ]
     },
     "execution_count": 73,
     "metadata": {},
     "output_type": "execute_result"
    }
   ],
   "source": [
    "part1 = 'A(x) -> (-I(x) & - S(x))'\n",
    "part1 = parser.to_nltk(part1)\n",
    "axioms.append(part1)\n",
    "part1"
   ]
  },
  {
   "cell_type": "code",
   "execution_count": 74,
   "metadata": {},
   "outputs": [
    {
     "data": {
      "text/plain": [
       "<ImpExpression (I(x) -> (-A(x) & -S(x)))>"
      ]
     },
     "execution_count": 74,
     "metadata": {},
     "output_type": "execute_result"
    }
   ],
   "source": [
    "part2 = 'I(x) -> (-A(x) & - S(x))'\n",
    "part2 = parser.to_nltk(part2)\n",
    "axioms.append(part2)\n",
    "part2"
   ]
  },
  {
   "cell_type": "code",
   "execution_count": 75,
   "metadata": {},
   "outputs": [
    {
     "data": {
      "text/plain": [
       "<ImpExpression (S(x) -> (-I(x) & -A(x)))>"
      ]
     },
     "execution_count": 75,
     "metadata": {},
     "output_type": "execute_result"
    }
   ],
   "source": [
    "part3 = 'S(x) -> (-I(x) & - A(x))'\n",
    "part3 = parser.to_nltk(part3)\n",
    "axioms.append(part3)\n",
    "part3"
   ]
  },
  {
   "cell_type": "code",
   "execution_count": 76,
   "metadata": {},
   "outputs": [
    {
     "data": {
      "text/plain": [
       "<OrExpression (A(x) | I(x) | S(x))>"
      ]
     },
     "execution_count": 76,
     "metadata": {},
     "output_type": "execute_result"
    }
   ],
   "source": [
    "part4 = 'A(x) | I(x) | S(x)'\n",
    "part4 = parser.to_nltk(part4)\n",
    "axioms.append(part4)\n",
    "part4"
   ]
  },
  {
   "cell_type": "markdown",
   "metadata": {},
   "source": [
    "# DEF"
   ]
  },
  {
   "cell_type": "code",
   "execution_count": 77,
   "metadata": {},
   "outputs": [
    {
     "data": {
      "text/plain": [
       "<ImpExpression (P(z,x,y,u) -> (I(z) & A(x) & A(y) & S(u)))>"
      ]
     },
     "execution_count": 77,
     "metadata": {},
     "output_type": "execute_result"
    }
   ],
   "source": [
    "def1 = 'P(z,x,y,u) -> (I(z) & A(x) & A(y) & S(u))'\n",
    "def1 = parser.to_nltk(def1)\n",
    "axioms.append(def1)\n",
    "def1"
   ]
  },
  {
   "cell_type": "code",
   "execution_count": 78,
   "metadata": {},
   "outputs": [
    {
     "data": {
      "text/plain": [
       "<ImpExpression (W(x,y,u) -> (A(x) & A(y) & S(u)))>"
      ]
     },
     "execution_count": 78,
     "metadata": {},
     "output_type": "execute_result"
    }
   ],
   "source": [
    "def2 = 'W(x,y,u) -> (A(x) & A(y) & S(u))'\n",
    "def2 = parser.to_nltk(def2)\n",
    "axioms.append(def2)\n",
    "def2"
   ]
  },
  {
   "cell_type": "markdown",
   "metadata": {},
   "source": [
    "# INJ"
   ]
  },
  {
   "cell_type": "code",
   "execution_count": 80,
   "metadata": {},
   "outputs": [
    {
     "data": {
      "text/plain": [
       "<ImpExpression ((S(u) & S(v) & -(u = v)) -> exists z x y.(I(z) & A(x) & A(y) & P(z,x,y,u) & P(z,y,x,v)))>"
      ]
     },
     "execution_count": 80,
     "metadata": {},
     "output_type": "execute_result"
    }
   ],
   "source": [
    "inj = 'S(u) & S(v) & -(u=v) -> exists z. exists x. exists y.(I(z) & A(x) & A(y) & P(z,x,y,u) & P(z,y,x,v))'\n",
    "inj = parser.to_nltk(inj)\n",
    "axioms.append(inj)\n",
    "inj"
   ]
  },
  {
   "cell_type": "markdown",
   "metadata": {},
   "source": [
    "# PERM"
   ]
  },
  {
   "cell_type": "code",
   "execution_count": 81,
   "metadata": {},
   "outputs": [
    {
     "data": {
      "text/plain": [
       "<ImpExpression (P(z,x,y,u) -> exists v.(S(v) & P(z,y,x,v) & all x1.((P(z,x,x1,u) & P(z,x1,y,u)) -> (P(z,x1,x,v) & P(z,y,x1,v))) & all x1.((P(z,x1,x,u) -> P(z,x1,y,v)) & (P(z,y,x1,u) -> P(z,x,x1,v))) & all x1 y1.((-(x1 = x) & -(x1 = y) & -(y1 = y) & -(y1 = x)) -> (P(z,x1,y1,u) = P(z,x1,y1,v))) & all z1 x1 y1.(-(z1 = z) -> (P(z,x1,y1,u) = P(z,x1,y1,v)))))>"
      ]
     },
     "execution_count": 81,
     "metadata": {},
     "output_type": "execute_result"
    }
   ],
   "source": [
    "perm = 'P(z,x,y,u) -> exists v.(S(v)  & P(z,y,x,v) & all x1.(P(z,x,x1,u) & P(z,x1,y,u) -> P(z,x1,x,v) & P(z,y,x1,v))  & all x1.((P(z,x1,x,u) -> P(z,x1,y,v)) & (P(z,y,x1,u) -> P(z,x,x1,v)))  & all x1. all y1.(-(x1=x) & -(x1=y) & -(y1=y) & -(y1=x) -> (P(z,x1,y1,u) = P(z,x1,y1,v))) & all z1. all x1. all y1.(-(z1=z) -> (P(z,x1,y1,u) = P(z,x1,y1,v))))'\n",
    "perm = parser.to_nltk(perm)\n",
    "axioms.append(perm)\n",
    "perm"
   ]
  },
  {
   "cell_type": "markdown",
   "metadata": {},
   "source": [
    "# UN"
   ]
  },
  {
   "cell_type": "code",
   "execution_count": 82,
   "metadata": {},
   "outputs": [
    {
     "data": {
      "text/plain": [
       "<ImpExpression ((S(u) & A(x) & A(y)) -> (all z.(I(z) -> P(z,x,y,u)) -> W(x,y,u)))>"
      ]
     },
     "execution_count": 82,
     "metadata": {},
     "output_type": "execute_result"
    }
   ],
   "source": [
    "un = f'S(u) & A(x) & A(y) -> ((all z.(I(z) -> P(z,x,y,u))) -> W(x,y,u))'\n",
    "un = parser.to_nltk(un)\n",
    "axioms.append(un)\n",
    "un"
   ]
  },
  {
   "cell_type": "markdown",
   "metadata": {},
   "source": [
    "# IIA"
   ]
  },
  {
   "cell_type": "code",
   "execution_count": 83,
   "metadata": {},
   "outputs": [
    {
     "data": {
      "text/plain": [
       "<ImpExpression ((S(u1) & S(u2) & A(x) & A(y)) -> (all z.(I(z) -> (P(z,x,y,u,u1) = P(z,x,y,u,u2))) -> (W(x,y,u1) = W(x,y,u2))))>"
      ]
     },
     "execution_count": 83,
     "metadata": {},
     "output_type": "execute_result"
    }
   ],
   "source": [
    "iia = f'S(u1) & S(u2) & A(x) & A(y) -> (all z.(I(z) -> (P(z,x,y,u,u1) = P(z,x,y,u,u2))) -> (W(x,y,u1) = W(x,y,u2)))'\n",
    "iia = parser.to_nltk(iia)\n",
    "axioms.append(iia)\n",
    "iia"
   ]
  },
  {
   "cell_type": "markdown",
   "metadata": {},
   "source": [
    "# ND"
   ]
  },
  {
   "cell_type": "code",
   "execution_count": 84,
   "metadata": {},
   "outputs": [
    {
     "data": {
      "text/plain": [
       "<ImpExpression (I(z) -> exists x y u.(S(u) & A(x) & A(y) & P(z,x,y,u) & W(x,y,u)))>"
      ]
     },
     "execution_count": 84,
     "metadata": {},
     "output_type": "execute_result"
    }
   ],
   "source": [
    "nd = f'I(z) -> exists x. exists y. exists u.(S(u) & A(x) & A(y) & P(z,x,y,u) & W(x,y,u))'\n",
    "nd = parser.to_nltk(nd)\n",
    "axioms.append(nd)\n",
    "nd"
   ]
  },
  {
   "cell_type": "code",
   "execution_count": 85,
   "metadata": {},
   "outputs": [
    {
     "data": {
      "text/plain": [
       "<AndExpression (((I(z) & S(u) & A(x) & A(y)) -> (P(z,x,y,u) | P(z,y,x,u) | (x = y))) & ((I(z) & S(u) & A(x)) -> -P(z,x,y,u)) & ((I(z) & S(u) & A(x1) & A(x2) & A(x3) & P(z,x1,x2,u) & P(z,x2,x3,u)) -> P(z,x1,x3,u)) & ((S(u) & A(x) & A(y)) -> (W(x,y,u) | W(y,x,u) | (x = y))) & ((S(u) & A(x)) -> -W(x,y,u)) & ((S(u) & A(x) & A(y) & A(t) & W(x,y,u) & W(y,t,u)) -> W(x,t,u)) & A(a1) & A(a2) & A(a3) & I(i1) & S(s1) & -(a1 = a2) & -(a1 = a3) & -(a2 = a3) & (A(x) -> (-I(x) & -S(x))) & (I(x) -> (-A(x) & -S(x))) & (S(x) -> (-I(x) & -A(x))) & (A(x) | I(x) | S(x)) & (P(z,x,y,u) -> (I(z) & A(x) & A(y) & S(u))) & (W(x,y,u) -> (A(x) & A(y) & S(u))) & ((S(u) & S(v) & -(u = v)) -> exists z x y.(I(z) & A(x) & A(y) & P(z,x,y,u) & P(z,y,x,v))) & (P(z,x,y,u) -> exists v.(S(v) & P(z,y,x,v) & all x1.((P(z,x,x1,u) & P(z,x1,y,u)) -> (P(z,x1,x,v) & P(z,y,x1,v))) & all x1.((P(z,x1,x,u) -> P(z,x1,y,v)) & (P(z,y,x1,u) -> P(z,x,x1,v))) & all x1 y1.((-(x1 = x) & -(x1 = y) & -(y1 = y) & -(y1 = x)) -> (P(z,x1,y1,u) = P(z,x1,y1,v))) & all z1 x1 y1.(-(z1 = z) -> (P(z,x1,y1,u) = P(z,x1,y1,v))))) & ((S(u) & A(x) & A(y)) -> (all z.(I(z) -> P(z,x,y,u)) -> W(x,y,u))) & ((S(u1) & S(u2) & A(x) & A(y)) -> (all z.(I(z) -> (P(z,x,y,u,u1) = P(z,x,y,u,u2))) -> (W(x,y,u1) = W(x,y,u2)))) & (I(z) -> exists x y u.(S(u) & A(x) & A(y) & P(z,x,y,u) & W(x,y,u))))>"
      ]
     },
     "execution_count": 85,
     "metadata": {},
     "output_type": "execute_result"
    }
   ],
   "source": [
    "formula_lp = LogUtils.Ytoria(axioms)\n",
    "formula_lp"
   ]
  },
  {
   "cell_type": "code",
   "execution_count": 86,
   "metadata": {},
   "outputs": [
    {
     "ename": "AssertionError",
     "evalue": "Fórmula con variables libres: (((I(z) & S(u) & A(x) & A(y)) -> (P(z,x,y,u) | P(z,y,x,u) | (x = y))) & ((I(z) & S(u) & A(x)) -> -P(z,x,y,u)) & ((I(z) & S(u) & A(x1) & A(x2) & A(x3) & P(z,x1,x2,u) & P(z,x2,x3,u)) -> P(z,x1,x3,u)) & ((S(u) & A(x) & A(y)) -> (W(x,y,u) | W(y,x,u) | (x = y))) & ((S(u) & A(x)) -> -W(x,y,u)) & ((S(u) & A(x) & A(y) & A(t) & W(x,y,u) & W(y,t,u)) -> W(x,t,u)) & A(a1) & A(a2) & A(a3) & I(i1) & S(s1) & -(a1 = a2) & -(a1 = a3) & -(a2 = a3) & (A(x) -> (-I(x) & -S(x))) & (I(x) -> (-A(x) & -S(x))) & (S(x) -> (-I(x) & -A(x))) & (A(x) | I(x) | S(x)) & (P(z,x,y,u) -> (I(z) & A(x) & A(y) & S(u))) & (W(x,y,u) -> (A(x) & A(y) & S(u))) & ((S(u) & S(v) & -(u = v)) -> exists z x y.(I(z) & A(x) & A(y) & P(z,x,y,u) & P(z,y,x,v))) & (P(z,x,y,u) -> exists v.(S(v) & P(z,y,x,v) & all x1.((P(z,x,x1,u) & P(z,x1,y,u)) -> (P(z,x1,x,v) & P(z,y,x1,v))) & all x1.((P(z,x1,x,u) -> P(z,x1,y,v)) & (P(z,y,x1,u) -> P(z,x,x1,v))) & all x1 y1.((-(x1 = x) & -(x1 = y) & -(y1 = y) & -(y1 = x)) -> (P(z,x1,y1,u) = P(z,x1,y1,v))) & all z1 x1 y1.(-(z1 = z) -> (P(z,x1,y1,u) = P(z,x1,y1,v))))) & ((S(u) & A(x) & A(y)) -> (all z.(I(z) -> P(z,x,y,u)) -> W(x,y,u))) & ((S(u1) & S(u2) & A(x) & A(y)) -> (all z.(I(z) -> (P(z,x,y,u,u1) = P(z,x,y,u,u2))) -> (W(x,y,u1) = W(x,y,u2)))) & (I(z) -> exists x y u.(S(u) & A(x) & A(y) & P(z,x,y,u) & W(x,y,u))))\n\\{Variable('v'), Variable('a1'), Variable('y'), Variable('u2'), Variable('A'), Variable('u'), Variable('i1'), Variable('W'), Variable('s1'), Variable('x'), Variable('I'), Variable('a3'), Variable('S'), Variable('z'), Variable('u1'), Variable('x3'), Variable('x1'), Variable('t'), Variable('x2'), Variable('a2'), Variable('P')}",
     "output_type": "error",
     "traceback": [
      "\u001b[1;31m---------------------------------------------------------------------------\u001b[0m",
      "\u001b[1;31mAssertionError\u001b[0m                            Traceback (most recent call last)",
      "Cell \u001b[1;32mIn[86], line 2\u001b[0m\n\u001b[0;32m      1\u001b[0m lt \u001b[38;5;241m=\u001b[39m LogicTester()\n\u001b[1;32m----> 2\u001b[0m formula_lp \u001b[38;5;241m=\u001b[39m \u001b[43mlt\u001b[49m\u001b[38;5;241;43m.\u001b[39;49m\u001b[43mtranslation_to_prover\u001b[49m\u001b[43m(\u001b[49m\u001b[43mformula_lp\u001b[49m\u001b[43m)\u001b[49m\n\u001b[0;32m      3\u001b[0m res \u001b[38;5;241m=\u001b[39m lt\u001b[38;5;241m.\u001b[39mSATsolve(formula_lp)\n\u001b[0;32m      4\u001b[0m \u001b[38;5;28;01mif\u001b[39;00m res \u001b[38;5;241m==\u001b[39m \u001b[38;5;124m'\u001b[39m\u001b[38;5;124mUNSAT\u001b[39m\u001b[38;5;124m'\u001b[39m:\n",
      "File \u001b[1;32mc:\\Users\\danie\\OneDrive\\Escritorio\\groundedPL\\examples\\..\\groundedPL\\logic_tester.py:36\u001b[0m, in \u001b[0;36mLogicTester.translation_to_prover\u001b[1;34m(self, sentence)\u001b[0m\n\u001b[0;32m     32\u001b[0m \u001b[38;5;28;01mdef\u001b[39;00m\u001b[38;5;250m \u001b[39m\u001b[38;5;21mtranslation_to_prover\u001b[39m(\u001b[38;5;28mself\u001b[39m, sentence:\u001b[38;5;28mstr\u001b[39m) \u001b[38;5;241m-\u001b[39m\u001b[38;5;241m>\u001b[39m \u001b[38;5;28mstr\u001b[39m:\n\u001b[0;32m     33\u001b[0m \u001b[38;5;250m    \u001b[39m\u001b[38;5;124;03m'''\u001b[39;00m\n\u001b[0;32m     34\u001b[0m \u001b[38;5;124;03m    Translate a sentence to prover format.\u001b[39;00m\n\u001b[0;32m     35\u001b[0m \u001b[38;5;124;03m    '''\u001b[39;00m\n\u001b[1;32m---> 36\u001b[0m     sentence_lp \u001b[38;5;241m=\u001b[39m \u001b[38;5;28;43mself\u001b[39;49m\u001b[38;5;241;43m.\u001b[39;49m\u001b[43mto_lp\u001b[49m\u001b[38;5;241;43m.\u001b[39;49m\u001b[43mparse\u001b[49m\u001b[43m(\u001b[49m\u001b[43msentence\u001b[49m\u001b[43m)\u001b[49m\n\u001b[0;32m     37\u001b[0m     \u001b[38;5;28;01mreturn\u001b[39;00m sentence_lp\n",
      "File \u001b[1;32mc:\\Users\\danie\\OneDrive\\Escritorio\\groundedPL\\examples\\..\\groundedPL\\codificacion.py:38\u001b[0m, in \u001b[0;36mToPropositionalLogic.parse\u001b[1;34m(self, sentence)\u001b[0m\n\u001b[0;32m     36\u001b[0m \u001b[38;5;28;01melse\u001b[39;00m:\n\u001b[0;32m     37\u001b[0m     sentence_lp \u001b[38;5;241m=\u001b[39m sentence\n\u001b[1;32m---> 38\u001b[0m \u001b[38;5;28;01massert\u001b[39;00m(\u001b[38;5;28mlen\u001b[39m(sentence_lp\u001b[38;5;241m.\u001b[39mfree()) \u001b[38;5;241m==\u001b[39m \u001b[38;5;241m0\u001b[39m), \u001b[38;5;124mf\u001b[39m\u001b[38;5;124m'\u001b[39m\u001b[38;5;124mFórmula con variables libres: \u001b[39m\u001b[38;5;132;01m{\u001b[39;00msentence_lp\u001b[38;5;132;01m}\u001b[39;00m\u001b[38;5;130;01m\\n\u001b[39;00m\u001b[38;5;124m\\\u001b[39m\u001b[38;5;132;01m{\u001b[39;00msentence_lp\u001b[38;5;241m.\u001b[39mfree()\u001b[38;5;132;01m}\u001b[39;00m\u001b[38;5;124m'\u001b[39m\n\u001b[0;32m     39\u001b[0m \u001b[38;5;28mself\u001b[39m\u001b[38;5;241m.\u001b[39mmodelo_lp\u001b[38;5;241m.\u001b[39mpoblar_con(sentence_lp)\n\u001b[0;32m     40\u001b[0m formula_fundamentada \u001b[38;5;241m=\u001b[39m \u001b[38;5;28mself\u001b[39m\u001b[38;5;241m.\u001b[39mmodelo_lp\u001b[38;5;241m.\u001b[39mfundamentar(sentence_lp)\n",
      "\u001b[1;31mAssertionError\u001b[0m: Fórmula con variables libres: (((I(z) & S(u) & A(x) & A(y)) -> (P(z,x,y,u) | P(z,y,x,u) | (x = y))) & ((I(z) & S(u) & A(x)) -> -P(z,x,y,u)) & ((I(z) & S(u) & A(x1) & A(x2) & A(x3) & P(z,x1,x2,u) & P(z,x2,x3,u)) -> P(z,x1,x3,u)) & ((S(u) & A(x) & A(y)) -> (W(x,y,u) | W(y,x,u) | (x = y))) & ((S(u) & A(x)) -> -W(x,y,u)) & ((S(u) & A(x) & A(y) & A(t) & W(x,y,u) & W(y,t,u)) -> W(x,t,u)) & A(a1) & A(a2) & A(a3) & I(i1) & S(s1) & -(a1 = a2) & -(a1 = a3) & -(a2 = a3) & (A(x) -> (-I(x) & -S(x))) & (I(x) -> (-A(x) & -S(x))) & (S(x) -> (-I(x) & -A(x))) & (A(x) | I(x) | S(x)) & (P(z,x,y,u) -> (I(z) & A(x) & A(y) & S(u))) & (W(x,y,u) -> (A(x) & A(y) & S(u))) & ((S(u) & S(v) & -(u = v)) -> exists z x y.(I(z) & A(x) & A(y) & P(z,x,y,u) & P(z,y,x,v))) & (P(z,x,y,u) -> exists v.(S(v) & P(z,y,x,v) & all x1.((P(z,x,x1,u) & P(z,x1,y,u)) -> (P(z,x1,x,v) & P(z,y,x1,v))) & all x1.((P(z,x1,x,u) -> P(z,x1,y,v)) & (P(z,y,x1,u) -> P(z,x,x1,v))) & all x1 y1.((-(x1 = x) & -(x1 = y) & -(y1 = y) & -(y1 = x)) -> (P(z,x1,y1,u) = P(z,x1,y1,v))) & all z1 x1 y1.(-(z1 = z) -> (P(z,x1,y1,u) = P(z,x1,y1,v))))) & ((S(u) & A(x) & A(y)) -> (all z.(I(z) -> P(z,x,y,u)) -> W(x,y,u))) & ((S(u1) & S(u2) & A(x) & A(y)) -> (all z.(I(z) -> (P(z,x,y,u,u1) = P(z,x,y,u,u2))) -> (W(x,y,u1) = W(x,y,u2)))) & (I(z) -> exists x y u.(S(u) & A(x) & A(y) & P(z,x,y,u) & W(x,y,u))))\n\\{Variable('v'), Variable('a1'), Variable('y'), Variable('u2'), Variable('A'), Variable('u'), Variable('i1'), Variable('W'), Variable('s1'), Variable('x'), Variable('I'), Variable('a3'), Variable('S'), Variable('z'), Variable('u1'), Variable('x3'), Variable('x1'), Variable('t'), Variable('x2'), Variable('a2'), Variable('P')}"
     ]
    }
   ],
   "source": [
    "lt = LogicTester()\n",
    "formula_lp = lt.translation_to_prover(formula_lp)\n",
    "res = lt.SATsolve(formula_lp)\n",
    "if res == 'UNSAT':\n",
    "    print('La fórmula es insatisfacible')\n",
    "else:\n",
    "    print('La fórmula es satisfacible')\n",
    "    modelo = [lt.to_numeric.literal(x) for x in res]\n",
    "    modelo = [x for x in modelo if lt.to_numeric.solo_atomo(x) in lt.tseitin.atomos] \n",
    "    print(f'\\nUn modelo es:\\n\\n\\t{modelo}')\n",
    "    modelo = [lt.to_lp.modelo_lp.decodificar(x) for x in modelo]\n",
    "    print(f'\\nEl modelo decodificado es:\\n\\n\\t{modelo}')"
   ]
  },
  {
   "cell_type": "markdown",
   "metadata": {},
   "source": [
    "---"
   ]
  }
 ],
 "metadata": {
  "kernelspec": {
   "display_name": "Python 3",
   "language": "python",
   "name": "python3"
  },
  "language_info": {
   "codemirror_mode": {
    "name": "ipython",
    "version": 3
   },
   "file_extension": ".py",
   "mimetype": "text/x-python",
   "name": "python",
   "nbconvert_exporter": "python",
   "pygments_lexer": "ipython3",
   "version": "3.11.9"
  }
 },
 "nbformat": 4,
 "nbformat_minor": 4
}
